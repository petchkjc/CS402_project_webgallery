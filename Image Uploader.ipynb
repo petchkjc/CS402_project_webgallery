{
 "cells": [
  {
   "cell_type": "code",
   "execution_count": 1,
   "metadata": {
    "collapsed": false
   },
   "outputs": [],
   "source": [
    "import os"
   ]
  },
  {
   "cell_type": "code",
   "execution_count": 2,
   "metadata": {
    "collapsed": false
   },
   "outputs": [
    {
     "data": {
      "text/plain": [
       "u'C:\\\\Users\\\\AzEulB\\\\Desktop\\\\CS402_project_webgallery'"
      ]
     },
     "execution_count": 2,
     "metadata": {},
     "output_type": "execute_result"
    }
   ],
   "source": [
    "pwd"
   ]
  },
  {
   "cell_type": "code",
   "execution_count": 3,
   "metadata": {
    "collapsed": false
   },
   "outputs": [
    {
     "name": "stdout",
     "output_type": "stream",
     "text": [
      "..\\materials\\bert\n"
     ]
    }
   ],
   "source": [
    "path=os.path.join('..','materials','bert')\n",
    "print path\n",
    "all_img=os.listdir(path)"
   ]
  },
  {
   "cell_type": "code",
   "execution_count": 4,
   "metadata": {
    "collapsed": false
   },
   "outputs": [
    {
     "data": {
      "text/plain": [
       "[]"
      ]
     },
     "execution_count": 4,
     "metadata": {},
     "output_type": "execute_result"
    }
   ],
   "source": [
    "Image.objects.all()"
   ]
  },
  {
   "cell_type": "code",
   "execution_count": 5,
   "metadata": {
    "collapsed": true
   },
   "outputs": [
    {
     "data": {
      "text/plain": [
       "['Adidasring.png',\n",
       " 'Adidasring2.png',\n",
       " 'Adidas_case.png',\n",
       " 'Alice.png',\n",
       " 'Alien.png',\n",
       " 'Animals_whole.png',\n",
       " 'Appleman.png',\n",
       " 'Areal.png',\n",
       " 'Ass.png',\n",
       " 'Baconegg.png',\n",
       " 'Bang.png',\n",
       " 'Bath.png',\n",
       " 'Batman.png',\n",
       " 'Bear_gold.png',\n",
       " 'Beer.png',\n",
       " 'Blackring.png',\n",
       " 'Blueheart.png',\n",
       " 'Bluepaint.png',\n",
       " 'Bluering.png',\n",
       " 'Bringit.png',\n",
       " 'Burberry_logo.png',\n",
       " 'Burberry_plain.png',\n",
       " 'Captainring.png',\n",
       " 'Cats_pizza.png',\n",
       " 'Cats_purple.png',\n",
       " 'Cat_juk.png',\n",
       " 'Cat_juk2.png',\n",
       " 'Cat_rainbow.png',\n",
       " 'Chanel.png',\n",
       " 'Christmas.png',\n",
       " 'Cinnamonroll_1.png',\n",
       " 'City_blue.png',\n",
       " 'Cloud_thunder.png',\n",
       " 'Cupcake_juk.png',\n",
       " 'Cupcake_rainbow.png',\n",
       " 'Daisy_1.png',\n",
       " 'Daisy_2.png',\n",
       " 'Daisy_ring.png',\n",
       " 'Dear.png',\n",
       " 'Diamondgold.png',\n",
       " 'Diamonsilver.png',\n",
       " 'Dogs.png',\n",
       " 'Donalduck_1.png',\n",
       " 'Donut_pink.png',\n",
       " 'Donut_white8bit.png',\n",
       " 'Doraemonring1.png',\n",
       " 'Doraemonring2.png',\n",
       " 'Doraemonring3.png',\n",
       " 'Doraemonring4.png',\n",
       " 'Doraemonring5.png',\n",
       " 'Doraemonring6.png',\n",
       " 'Doraemon_juk1.png',\n",
       " 'Ducky_juk.png',\n",
       " 'Eggs_blue.png',\n",
       " 'Elsa_ring.png',\n",
       " 'Flower_juk.png',\n",
       " 'Food_8bit.png',\n",
       " 'Forest_case.png',\n",
       " 'Frenchfries_mc.png',\n",
       " 'Frog_juk.png',\n",
       " 'Fxxk_blue.png',\n",
       " 'Galaxy_black.png',\n",
       " 'Galaxy_bs.png',\n",
       " 'Galaxy_cottoncandy.png',\n",
       " 'Galaxy_darkblue.png',\n",
       " 'Galaxy_lightdark.png',\n",
       " 'Galaxy_redgreen.png',\n",
       " 'Gee_1.png',\n",
       " 'Gee_moomin.png',\n",
       " 'Ghibli_1.png',\n",
       " 'Ghibli_2.png',\n",
       " 'Ghibli_ring.png',\n",
       " 'Ghosts_black.png',\n",
       " 'Ghosts_mini.png',\n",
       " 'Girl_juk1.png',\n",
       " 'Godzilla.png',\n",
       " 'Gold_ring.png',\n",
       " 'Greenman_ring.png',\n",
       " 'Gudattama_ring.png',\n",
       " 'Heart_blue8bit.png',\n",
       " 'Heart_juk1.png',\n",
       " 'Heart_juk2.png',\n",
       " 'Hologram_1.png',\n",
       " 'Hologram_2.png',\n",
       " 'Hologram_3.png',\n",
       " 'Hologram_4.png',\n",
       " 'Icecream_mintchoc.png',\n",
       " 'Icecream_pink.png',\n",
       " 'Ironman_juk.png',\n",
       " 'James_1.png',\n",
       " 'James_2.png',\n",
       " 'James_3.png',\n",
       " 'Jurenger.png',\n",
       " 'Kitty1.png',\n",
       " 'Kitty2.png',\n",
       " 'Kitty3.png',\n",
       " 'Kittyring_1.png',\n",
       " 'Kittyring_2.png',\n",
       " 'Kittyring_3.png',\n",
       " 'Kittyring_4.png',\n",
       " 'Kittyring_5.png',\n",
       " 'Kittyring_6.png',\n",
       " 'Kitty_blue.png',\n",
       " 'Kitty_chinadool.png',\n",
       " 'Kitty_unicon.png',\n",
       " 'LV_collorful.png',\n",
       " 'LV_logo.png',\n",
       " 'Macaron1.png',\n",
       " 'Macaron2.png',\n",
       " 'Marble_black.png',\n",
       " 'Marble_blue.png',\n",
       " 'Marble_wg.png',\n",
       " 'Marble_white.png',\n",
       " 'Mcd_8bit.png',\n",
       " 'Mickeyring_1.png',\n",
       " 'Mickeyring_2.png',\n",
       " 'Mickey_cat.png',\n",
       " 'Mickey_juk1.png',\n",
       " 'Mickey_mini.png',\n",
       " 'Mickey_minnie.png',\n",
       " 'Mickry_juk2.png',\n",
       " 'Mike_1.png',\n",
       " 'Minion_1.png',\n",
       " 'Minion_2.png',\n",
       " 'Minion_3.png',\n",
       " 'Minniering_1.png',\n",
       " 'Minniering_2.png',\n",
       " 'moomin2.png',\n",
       " 'moominring.png',\n",
       " 'Moonman.png',\n",
       " 'Mountain_case1.png',\n",
       " 'Mountain_case2.png',\n",
       " 'Mymelody_juk.png',\n",
       " 'Nikering_1.png',\n",
       " 'Ninering.png',\n",
       " 'Ninering2.png',\n",
       " 'Ninjaturtle.png',\n",
       " 'Nutella.png',\n",
       " 'Oreo.png',\n",
       " 'Paint_darkblue.png',\n",
       " 'Paint_grey.png',\n",
       " 'Paint_pinkblue.png',\n",
       " 'Panda_hug.png',\n",
       " 'Paper_rocket.png',\n",
       " 'Patrick_big.png',\n",
       " 'Penguin_big.png',\n",
       " 'Pikachu.png',\n",
       " 'Pineapple.png',\n",
       " 'Pineapple_big.png',\n",
       " 'Pink_ring.png',\n",
       " 'Pizza_pink.png',\n",
       " 'Plain_black.png',\n",
       " 'Plain_blue.png',\n",
       " 'Plain_crimson.png',\n",
       " 'Plain_darckpink.png',\n",
       " 'Plain_darkblue.png',\n",
       " 'Plain_greentea.png',\n",
       " 'Plain_grey.png',\n",
       " 'Plain_mint.png',\n",
       " 'Plain_orange.png',\n",
       " 'Plain_purple.png',\n",
       " 'Plain_red.png',\n",
       " 'Plain_skyblue.png',\n",
       " 'Plain_white.png',\n",
       " 'Plain_yellow.png',\n",
       " 'Pluto.png',\n",
       " 'Pokemons_mini.png',\n",
       " 'Pokemon_whole.png',\n",
       " 'Poohring_1.png',\n",
       " 'Poohring_2.png',\n",
       " 'Pooh_juk1.png',\n",
       " 'Pooh_whole.png',\n",
       " 'Popcorn_purple.png',\n",
       " 'Purple_green.png',\n",
       " 'Quote_he.png',\n",
       " 'Quote_she.png',\n",
       " 'Quote_we.png',\n",
       " 'Rabbit_bw.png',\n",
       " 'Rilakuma_pink.png',\n",
       " 'Sakura.png',\n",
       " 'Sea_blue.png',\n",
       " 'Sea_darkblue.png',\n",
       " 'Sea_lightblue.png',\n",
       " 'Sharks_pastel.png',\n",
       " 'Silver_ring.png',\n",
       " 'Skull_blur.png',\n",
       " 'Sky_blue.png',\n",
       " 'Sky_purple.png',\n",
       " 'Sky_silverred.png',\n",
       " 'Sky_tree.png',\n",
       " 'Sky_whiteblue.png',\n",
       " 'Snoopy_ring.png',\n",
       " 'Spiderman_ring.png',\n",
       " 'Spongebob_big.png',\n",
       " 'Spongebob_juk.png',\n",
       " 'Starbucks_brown.png',\n",
       " 'Starbucks_pink.png',\n",
       " 'Starwar_hourse.png',\n",
       " 'Starwar_white.png',\n",
       " 'Stichring.png',\n",
       " 'Stich_juk.png',\n",
       " 'Supermanring.png',\n",
       " 'Superman_logo.png',\n",
       " 'Supreme_logo.png',\n",
       " 'Sushi_purple.png',\n",
       " 'Table_black.png',\n",
       " 'Table_yellow.png',\n",
       " 'Twinstarring_1.png',\n",
       " 'Twinstarring_2.png',\n",
       " 'Twinstarring_3.png',\n",
       " 'Twinstarring_4.png',\n",
       " 'Twinstarring_5.png',\n",
       " 'Twinstarring_6.png',\n",
       " 'Twinstarring_7.png',\n",
       " 'Twinstarring_8.png',\n",
       " 'Twinstarring_9.png',\n",
       " 'Twinstar_1.png',\n",
       " 'Twinstar_juk2.png',\n",
       " 'Unicon_blue.png',\n",
       " 'Universe_ministar.png',\n",
       " 'Universe_silver.png',\n",
       " 'Universe_whole.png',\n",
       " 'Vintage_dog.png',\n",
       " 'Vintage_fall.png',\n",
       " 'Vintage_pool.png',\n",
       " 'Vintage_selfie.png',\n",
       " 'Wavy_blue.png']"
      ]
     },
     "execution_count": 5,
     "metadata": {},
     "output_type": "execute_result"
    }
   ],
   "source": [
    "all_img"
   ]
  },
  {
   "cell_type": "code",
   "execution_count": null,
   "metadata": {
    "collapsed": false,
    "scrolled": true
   },
   "outputs": [
    {
     "name": "stdout",
     "output_type": "stream",
     "text": [
      "..\\materials\\bert\\adidas.jpg\n",
      "..\\materials\\bert\\adidasring.png\n",
      "..\\materials\\bert\\adidasring2.png\n",
      "..\\materials\\bert\\alice_big.jpg\n",
      "..\\materials\\bert\\alien.jpg\n",
      "..\\materials\\bert\\animals.jpg\n",
      "..\\materials\\bert\\apple.jpg\n",
      "..\\materials\\bert\\areal.png\n",
      "..\\materials\\bert\\ass.jpg\n",
      "..\\materials\\bert\\bang.jpg\n",
      "..\\materials\\bert\\bath.png\n",
      "..\\materials\\bert\\batman.jpg\n",
      "..\\materials\\bert\\batmanring.png\n",
      "..\\materials\\bert\\bear.jpg\n",
      "..\\materials\\bert\\bear.png\n",
      "..\\materials\\bert\\beer.jpg\n",
      "..\\materials\\bert\\black.png\n",
      "..\\materials\\bert\\blackgold_marble.jpg\n",
      "..\\materials\\bert\\black_marble.jpg\n",
      "..\\materials\\bert\\blue.png\n",
      "..\\materials\\bert\\blueheart.png\n"
     ]
    }
   ],
   "source": [
    "from django.core.files import File\n",
    "for i in all_img:\n",
    "    pic=os.path.join(path,i)\n",
    "    print pic\n",
    "    img=Image(description=\"Product\")\n",
    "    f=File(open(pic,'rb'))\n",
    "    img.image.save(f.name, f)"
   ]
  },
  {
   "cell_type": "code",
   "execution_count": 7,
   "metadata": {
    "collapsed": false
   },
   "outputs": [],
   "source": [
    "from django.contrib.sessions.models import Session\n",
    "from django.contrib.sessions.backends.db import SessionStore"
   ]
  },
  {
   "cell_type": "code",
   "execution_count": 8,
   "metadata": {
    "collapsed": false
   },
   "outputs": [
    {
     "data": {
      "text/plain": [
       "[<Session: dpvluio2l9zdv76vfmqgw2t64bl62bzm>]"
      ]
     },
     "execution_count": 8,
     "metadata": {},
     "output_type": "execute_result"
    }
   ],
   "source": [
    "Session.objects.all()"
   ]
  },
  {
   "cell_type": "code",
   "execution_count": 9,
   "metadata": {
    "collapsed": false
   },
   "outputs": [
    {
     "name": "stdout",
     "output_type": "stream",
     "text": [
      "Adidasring.png\n"
     ]
    }
   ],
   "source": [
    "print all_img[0]"
   ]
  },
  {
   "cell_type": "code",
   "execution_count": null,
   "metadata": {
    "collapsed": true
   },
   "outputs": [],
   "source": []
  }
 ],
 "metadata": {
  "anaconda-cloud": {},
  "kernelspec": {
   "display_name": "Django Shell-Plus",
   "language": "python",
   "name": "django_extensions"
  },
  "language_info": {
   "codemirror_mode": {
    "name": "ipython",
    "version": 2
   },
   "file_extension": ".py",
   "mimetype": "text/x-python",
   "name": "python",
   "nbconvert_exporter": "python",
   "pygments_lexer": "ipython2",
   "version": "2.7.13"
  }
 },
 "nbformat": 4,
 "nbformat_minor": 1
}
